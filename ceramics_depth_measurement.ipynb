{
 "cells": [
  {
   "cell_type": "markdown",
   "metadata": {},
   "source": [
    "# Non-invasive on-site method for thickness measurement of transparent ceramic glazes based on Depth from Focus\n",
    "\n",
    "Here is the Jupyter Notebook used for the measurement.\n",
    "In a first time, you need to use main_ceramics.m on MATLAB to generate a depthmap. This depthmap is exported to a pkl format (depthmap_python.pkl) and then can be study here in order to measure the depth of the glaze. \n",
    "\n",
    "Warning : don't forgot to multiply the obtained depth by the refractive index of the glaze.\n",
    "\n",
    "## Import\n",
    "\n",
    "Run it two time to get the interactive plot."
   ]
  },
  {
   "cell_type": "code",
   "execution_count": null,
   "metadata": {},
   "outputs": [],
   "source": [
    "import pickle\n",
    "import numpy as np\n",
    "import matplotlib.pyplot as plt\n",
    "import matplotlib.image as mpimg\n",
    "\n",
    "import pandas as pd \n",
    "\n",
    "from sklearn.cluster import KMeans\n",
    "\n",
    "from mpl_toolkits.mplot3d import Axes3D\n",
    "\n",
    "# Fonctions de visualisation\n",
    "%matplotlib notebook"
   ]
  },
  {
   "cell_type": "markdown",
   "metadata": {},
   "source": [
    "## Input for the depth measurement "
   ]
  },
  {
   "cell_type": "code",
   "execution_count": null,
   "metadata": {},
   "outputs": [],
   "source": [
    "filename = \"D://Depth From Focus//DepthFromFocus//2021.07.01_010//\"\n",
    "ROI = [[2215, 1206], [4084, 2973]]"
   ]
  },
  {
   "cell_type": "markdown",
   "metadata": {},
   "source": [
    "## Plot the all in focus image and the depthmap "
   ]
  },
  {
   "cell_type": "code",
   "execution_count": null,
   "metadata": {},
   "outputs": [],
   "source": [
    "img = mpimg.imread(filename+'//restack.jpg')\n",
    "print(np.shape(img))\n",
    "plt.figure(figsize=(9,7))\n",
    "plt.imshow(img[ROI[0][1]:ROI[1][1], ROI[0][0]:ROI[1][0], :])\n",
    "plt.axis('off')\n",
    "\n",
    "with open(filename+'//depthmap_python.pkl', 'rb') as fin :\n",
    "        a = pickle.load(fin) \n",
    "\n",
    "plt.figure(figsize=(9,7))\n",
    "plt.imshow(a, 'gray')\n",
    "plt.axis('off')\n",
    "np.shape(a)"
   ]
  },
  {
   "cell_type": "markdown",
   "metadata": {},
   "source": [
    "## Plot the depth histogram"
   ]
  },
  {
   "cell_type": "code",
   "execution_count": null,
   "metadata": {},
   "outputs": [],
   "source": [
    "data = a.reshape(len(a)*len(a[0]), 1)\n",
    "\n",
    "# First histogram to get the range\n",
    "plt.figure(figsize=(10,7))\n",
    "plt.hist(data, bins = 1000, color = 'yellow',\n",
    "            edgecolor = 'red')\n",
    "plt.xlabel('Depth (in µm)')\n",
    "plt.ylabel('Numbers')\n",
    "plt.title('Histogram of pixels depth')"
   ]
  },
  {
   "cell_type": "code",
   "execution_count": null,
   "metadata": {},
   "outputs": [],
   "source": [
    "#################################################\n",
    "# After the previous plot, determine the minimum\n",
    "# and the maximum detph to see a better histogram\n",
    "#################################################\n",
    "mini = -1100\n",
    "maxi = -750\n",
    "#################################################\n",
    "\n",
    "plt.figure(figsize=(10,7))\n",
    "plt.hist(data, range = (mini, maxi), bins = 2000, color = 'yellow',\n",
    "            edgecolor = 'red')\n",
    "plt.xlabel('Depth (in µm)')\n",
    "plt.ylabel('Number')\n",
    "plt.title('Histogram of pixel depth on the depth map')\n"
   ]
  },
  {
   "cell_type": "markdown",
   "metadata": {},
   "source": [
    "## Interactive plot for a better understanding of depth\n",
    "\n",
    "Here you can use an interactive plot. Clicking on a depth in the histogram highlights the corresponding depths in red on the depthmap."
   ]
  },
  {
   "cell_type": "code",
   "execution_count": null,
   "metadata": {},
   "outputs": [],
   "source": [
    "######################################################\n",
    "# Input val as the precision of the highlighted part\n",
    "# in red : bigger is val, more values around the depth \n",
    "# are highlighted\n",
    "######################################################\n",
    "val = 20\n",
    "######################################################\n",
    "\n",
    "class Cursor:\n",
    "    def __init__(self, fig, ax, ax2, img, data, mini, maxi, val):\n",
    "        self.fig = fig\n",
    "        self.ax = ax\n",
    "        self.ax2 = ax2\n",
    "        self.ly = ax.axvline(color='k', x = (mini+maxi)/2)  # the vert line\n",
    "        self.data = data\n",
    "        self.img = img\n",
    "        self.value = val\n",
    "\n",
    "        # text location in axes coords\n",
    "        self.txt = ax.text(0.7, 0.9, '', transform=ax.transAxes)\n",
    "\n",
    "    def mouse_move(self, event):\n",
    "        if not event.inaxes:\n",
    "            return\n",
    "\n",
    "        x = event.xdata\n",
    "        # update the line positions\n",
    "        self.ly.set_xdata(x)\n",
    "\n",
    "        self.txt.set_text('value=%1.2f' % (x))\n",
    "        img2 = np.zeros((np.shape(self.img)[0], np.shape(self.img)[1], np.shape(self.img)[2]))\n",
    "        img2[abs(self.data-x) <= self.value] = [1, 0, 0]\n",
    "        img2[abs(self.data-x) > self.value] = self.img[abs(self.data-x) > self.value]\n",
    "        self.ax2 = plt.imshow(img2)\n",
    "        plt.axis('off')\n",
    "        \n",
    "        self.ax.figure.canvas.draw()\n",
    "\n",
    "# Final image\n",
    "with open(filename+'//depthmap_python.pkl', 'rb') as fin :\n",
    "        a = pickle.load(fin) \n",
    "        \n",
    "b = np.ones((np.shape(a)[0], np.shape(a)[1], 3))\n",
    "for x in range(np.shape(a)[0]) :\n",
    "    for y in range(np.shape(a)[1]) :\n",
    "        b[x,y] =[a[x,y], a[x,y], a[x,y]]\n",
    "\n",
    "img = (b - np.min(b))/(np.max(b)- np.min(b))\n",
    " \n",
    "# Histogram    \n",
    "fig = plt.figure(figsize=(10,9))\n",
    "ax = fig.add_subplot(211)\n",
    "ax.hist(data, range = (mini, maxi), bins = 1000, color = 'red',\n",
    "            edgecolor = 'red')\n",
    "\n",
    "ax2 = fig.add_subplot(212)\n",
    "\n",
    "\n",
    "# Set useblit=True on most backends for enhanced performance.\n",
    "#cursor = Cursor(ax, useblit=True, horizOn=False, color='red', linewidth=2)\n",
    "cursor = Cursor(fig, ax, ax2, img, a, mini, maxi, val)\n",
    "fig.canvas.mpl_connect('button_press_event', cursor.mouse_move)\n",
    "\n",
    "\n",
    "\n",
    "\n",
    "plt.show()"
   ]
  },
  {
   "cell_type": "code",
   "execution_count": null,
   "metadata": {},
   "outputs": [],
   "source": []
  }
 ],
 "metadata": {
  "kernelspec": {
   "display_name": "Python 3",
   "language": "python",
   "name": "python3"
  },
  "language_info": {
   "codemirror_mode": {
    "name": "ipython",
    "version": 3
   },
   "file_extension": ".py",
   "mimetype": "text/x-python",
   "name": "python",
   "nbconvert_exporter": "python",
   "pygments_lexer": "ipython3",
   "version": "3.7.4"
  }
 },
 "nbformat": 4,
 "nbformat_minor": 2
}
